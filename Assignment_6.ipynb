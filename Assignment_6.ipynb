{
 "cells": [
  {
   "cell_type": "markdown",
   "id": "a5f3be0d-b1bb-4def-b3c8-37f7094421a5",
   "metadata": {},
   "source": [
    "### Q1. What are keywords in python? Using the keyword library, print all the python keywords.\n",
    "\n",
    "**Answer:** \n",
    "\n",
    "In Python, keywords are reserved words that have special meanings and predefined roles within the language. These keywords cannot be used as identifiers (such as variable names or function names) because they are used to define the syntax and structure of the language itself.\n",
    "\n",
    "We can access the list of Python keywords using the `keyword` module and its `kwlist` attribute. \n"
   ]
  },
  {
   "cell_type": "code",
   "execution_count": 1,
   "id": "dd66026c-de49-4ab4-b7a1-ea4d5a369cb4",
   "metadata": {},
   "outputs": [
    {
     "name": "stdout",
     "output_type": "stream",
     "text": [
      "False\n",
      "None\n",
      "True\n",
      "and\n",
      "as\n",
      "assert\n",
      "async\n",
      "await\n",
      "break\n",
      "class\n",
      "continue\n",
      "def\n",
      "del\n",
      "elif\n",
      "else\n",
      "except\n",
      "finally\n",
      "for\n",
      "from\n",
      "global\n",
      "if\n",
      "import\n",
      "in\n",
      "is\n",
      "lambda\n",
      "nonlocal\n",
      "not\n",
      "or\n",
      "pass\n",
      "raise\n",
      "return\n",
      "try\n",
      "while\n",
      "with\n",
      "yield\n"
     ]
    }
   ],
   "source": [
    "import keyword\n",
    "\n",
    "# Get a list of all Python keywords\n",
    "keywords = keyword.kwlist\n",
    "\n",
    "# Print the list of keywords\n",
    "for kw in keywords:\n",
    "    print(kw)"
   ]
  },
  {
   "cell_type": "markdown",
   "id": "52fc5f57-436c-47b3-94ae-1add44d98530",
   "metadata": {},
   "source": [
    "### Q2. What are the rules to create variables in python?\n",
    "\n",
    "**Answer:** \n",
    "\n",
    "In Python, variables are used to store data values. Here are the rules for creating variables:\n",
    "\n",
    "**Naming Convention:**\n",
    "\n",
    "- Variable names must start with a letter (a-z, A-Z) or an underscore (_).\n",
    "- They can be followed by letters, digits (0-9), or underscores.\n",
    "- Python is case-sensitive, so myVar, MyVar, and myvar are different variables.\n",
    "\n",
    "**Reserved Keywords:**\n",
    "Variable names cannot be Python keywords or reserved words like if, else, for, while, import, def, etc.\n",
    "\n",
    "\n",
    "**No Special Characters:**\n",
    "Special characters like !, @, #, $, %, etc., cannot be used in variable names.\n",
    "\n",
    "\n",
    "**Whitespace:**\n",
    "Variable names cannot contain spaces. Use underscores (_) to separate words in variable names (snake_case) for readability.\n",
    "\n",
    "\n",
    "**Conventions:**\n",
    "It's a convention in Python to use descriptive variable names to convey the purpose of the variable.\n",
    "\n",
    "\n",
    "**Example of valid variable names:**\n",
    "```python\n",
    "name = \"Alice\"\n",
    "age = 30\n",
    "is_valid = True\n",
    "my_var = 10\n",
    "```\n",
    "\n",
    "**Examples of invalid variable names:**\n",
    "```python\n",
    "2var = 5            # Variable name cannot start with a digit\n",
    "my-var = 7          # Special characters like hyphens are not allowed\n",
    "for = 10            # Cannot use a Python keyword as a variable name\n",
    "```"
   ]
  },
  {
   "cell_type": "markdown",
   "id": "25b097f3-9a4e-4b16-aec1-64631b316fcc",
   "metadata": {},
   "source": [
    "### Q3. What are the standards and conventions followed for the nomenclature of variables in python to improve code readability and maintainability?\n",
    "\n",
    "**Answer:** \n",
    "\n",
    "In Python, adhering to certain standards and conventions for variable naming enhances code readability and maintainability. The commonly followed conventions include:\n",
    "\n",
    "**Use Descriptive Names:**\n",
    "- Choose variable names that convey their purpose or meaning.\n",
    "- For example, use first_name instead of fn for clarity.\n",
    "\n",
    "**Use Lowercase Letters:**\n",
    "- Use lowercase letters for variable names in most cases.\n",
    "- For example, count, username, is_valid.\n",
    "\n",
    "**Use Underscores for Readability (snake_case):**\n",
    "- Use underscores to separate words in variable names for improved readability.\n",
    "- For example, total_score, customer_name.\n",
    "\n",
    "**Avoid Single-Character Names:**\n",
    "\n",
    "- Unless used as loop counters or in specific scenarios, avoid single-letter variable names like i, j, or k. Use meaningful names instead.\n",
    "\n",
    "**Constants Convention:**\n",
    "- Use uppercase letters for constants to distinguish them from variables.\n",
    "- For example, PI, MAX_LENGTH.\n",
    "\n",
    "**Be Consistent:**\n",
    "- Maintain consistency in naming across your codebase.\n",
    "- Follow the same naming convention for similar types of variables.\n",
    "\n",
    "**Avoid Ambiguous Names:**\n",
    "- Avoid using ambiguous names that might cause confusion or misinterpretation.\n",
    "- For instance, using l (lowercase L) as a variable name might be mistaken for 1 (the digit one).\n",
    "\n",
    "**Follow PEP 8 Guidelines:**\n",
    "- PEP 8 is the official style guide for Python. It provides conventions for writing clean and maintainable code, including variable naming."
   ]
  },
  {
   "cell_type": "markdown",
   "id": "b03c95e5-555d-473c-9084-6005d775cd6e",
   "metadata": {},
   "source": [
    "### Q4. What will happen if a keyword is used as a variable name?\n",
    "\n",
    "**Answer:** \n",
    "\n",
    "If a keyword is used as a variable name in Python, it will result in a `SyntaxError`. Keywords are reserved words in Python, and they have specific meanings and predefined roles within the language's syntax. Using a keyword as a variable name violates the rules of Python's syntax, causing the interpreter to raise a SyntaxError during code execution."
   ]
  },
  {
   "cell_type": "markdown",
   "id": "a8d6a123-8df9-407c-beb5-bd3c0f7223a4",
   "metadata": {},
   "source": [
    "### Q5. For what purpose def keyword is used?\n",
    "\n",
    "**Answer:** \n",
    "\n",
    "The `def` keyword in Python is used to define and create functions. It is used to declare a user-defined function, allowing you to encapsulate a block of code with a name and parameters so that you can reuse it throughout your program. Functions are a fundamental building block in Python for organizing and structuring code."
   ]
  },
  {
   "cell_type": "markdown",
   "id": "5003c405-92c8-4ca8-9466-7f3522cf61eb",
   "metadata": {},
   "source": [
    "### Q6. What is the operation of this special character ‘\\’?\n",
    "\n",
    "**Answer:** \n",
    "\n",
    "The special character `\\` in Python is used as an escape character. It is used to escape or indicate that the character following it should be treated specially. For example:\n",
    "\n",
    "- `\\n`: Represents a newline character.\n",
    "- `\\t`: Represents a tab character.\n",
    "- `\\\\`: Represents a literal backslash character.\n",
    "- `\\'` and `\\\"`: Represent single and double quotation marks, respectively, within a string.\n",
    "- `\\uXXXX` and `\\UXXXXXXXX`: Represent Unicode characters using their hexadecimal code points.\n",
    "\n",
    "In essence, the backslash `\\` is used to escape or modify the interpretation of the character(s) that follow it in a string or character literal."
   ]
  },
  {
   "cell_type": "markdown",
   "id": "b36d6f1c-1644-43e3-a824-a2ecfebfea03",
   "metadata": {},
   "source": [
    "### Q7. Give an example of the following conditions:\n",
    "(i) Homogeneous list\n",
    "(ii) Heterogeneous set\n",
    "(iii) Homogeneous tuple\n",
    "\n",
    "**Answer:** \n",
    "\n",
    "Here are examples of each:\n",
    "\n",
    "(i) Homogeneous list: A list containing elements of the same data type.\n",
    "```python\n",
    "homogeneous_list = [1, 2, 3, 4, 5]\n",
    "```\n",
    "\n",
    "(ii) Heterogeneous set: A set containing elements of different data types.\n",
    "```python\n",
    "heterogeneous_set = {1, 'apple', 3.14, True}\n",
    "```\n",
    "\n",
    "(iii) Homogeneous tuple: A tuple containing elements of the same data type.\n",
    "```python\n",
    "homogeneous_tuple = (10, 20, 30, 40, 50)\n",
    "```"
   ]
  },
  {
   "cell_type": "markdown",
   "id": "7a257f76-90cb-452c-b56e-b55fd5c5306a",
   "metadata": {},
   "source": [
    "### Q8. Explain the mutable and immutable data types with proper explanation & examples.\n",
    "\n",
    "**Answer:** \n",
    "\n",
    "Mutable data types in Python can be changed or modified after creation, while immutable data types cannot be changed once they are created.\n",
    "\n",
    "Examples of mutable data types:\n",
    "1. Lists: You can add, remove, or modify elements.\n",
    "```python\n",
    "my_list = [1, 2, 3]\n",
    "my_list.append(4)  # Modifying the list\n",
    "```\n",
    "\n",
    "2. Dictionaries: You can add, remove, or modify key-value pairs.\n",
    "```python\n",
    "my_dict = {'name': 'John', 'age': 30}\n",
    "my_dict['age'] = 31  # Modifying the dictionary\n",
    "```\n",
    "\n",
    "3. Sets: You can add or remove elements.\n",
    "```python\n",
    "my_set = {1, 2, 3}\n",
    "my_set.add(4)  # Modifying the set\n",
    "```\n",
    "\n",
    "Immutable data types, on the other hand, cannot be changed:\n",
    "1. Strings: You cannot change individual characters in a string.\n",
    "```python\n",
    "my_string = \"Hello\"\n",
    "# Attempting to modify it will result in an error: my_string[0] = 'M'\n",
    "```\n",
    "\n",
    "2. Tuples: You cannot change elements in a tuple.\n",
    "```python\n",
    "my_tuple = (1, 2, 3)\n",
    "# Attempting to modify it will result in an error: my_tuple[0] = 4\n",
    "```\n",
    "\n",
    "3. Integers, floats, and other basic data types: These values are immutable.\n",
    "```python\n",
    "my_int = 5\n",
    "# You cannot change it directly: my_int = 10\n",
    "```\n",
    "\n",
    "**Key Differences:**\n",
    "\n",
    "- Mutability: Mutable types allow in-place modifications, while immutable types require creating new objects for modifications.\n",
    "- Memory Efficiency: Mutable types can be less memory-efficient because they can change size and contents in place. Immutable types tend to be more memory-efficient because they don't change after creation.\n",
    "- Predictability: Immutable types provide predictability and safety in code. Once created, their values remain consistent, making them suitable for use in scenarios where data integrity is crucial.\n",
    "\n",
    "Understanding mutability is important because it affects how data is stored and manipulated in Python, impacting aspects like variable assignment and function behavior."
   ]
  },
  {
   "cell_type": "markdown",
   "id": "b0baa989-6e5d-415d-8da1-27709810e8b1",
   "metadata": {},
   "source": [
    "### Q9. Write a code to create the given structure using only for loop.\n",
    "\n",
    "```python\n",
    "    *\n",
    "   ***\n",
    "  *****\n",
    " *******\n",
    "*********\n",
    "```"
   ]
  },
  {
   "cell_type": "code",
   "execution_count": 17,
   "id": "cde55786-dfea-4936-9bdb-4ded25a0b814",
   "metadata": {},
   "outputs": [
    {
     "name": "stdout",
     "output_type": "stream",
     "text": [
      "    *\n",
      "   ***\n",
      "  *****\n",
      " *******\n",
      "*********\n"
     ]
    }
   ],
   "source": [
    "for i in range(1,6):\n",
    "    print(\" \" * (5 - i) + \"*\" * (2 * i - 1)) "
   ]
  },
  {
   "cell_type": "markdown",
   "id": "9c23c35c",
   "metadata": {},
   "source": [
    "### Q10. Write a code to create the given structure using while loop.\n",
    "```python\n",
    "|||||||||\n",
    " |||||||\n",
    "  |||||\n",
    "   |||\n",
    "    |\n",
    "```"
   ]
  },
  {
   "cell_type": "code",
   "execution_count": 2,
   "id": "23bb153a",
   "metadata": {},
   "outputs": [
    {
     "name": "stdout",
     "output_type": "stream",
     "text": [
      "|||||||||\n",
      " |||||||\n",
      "  |||||\n",
      "   |||\n",
      "    |\n"
     ]
    }
   ],
   "source": [
    "rows = 5  # Number of rows in the structure\n",
    "row = 0  # Variable to keep track of the current row\n",
    "\n",
    "while row < rows:\n",
    "    # Print spaces before the '|' characters\n",
    "    space_count = 0\n",
    "    while space_count < row:\n",
    "        print(\" \", end=\"\")\n",
    "        space_count += 1\n",
    "    \n",
    "    # Print the '|' characters\n",
    "    pipe_count = 2 * (rows - row) - 1\n",
    "    while pipe_count > 0:\n",
    "        print(\"|\", end=\"\")\n",
    "        pipe_count -= 1\n",
    "    \n",
    "    # Move to the next line for the next row\n",
    "    print()\n",
    "    row += 1\n"
   ]
  }
 ],
 "metadata": {
  "kernelspec": {
   "display_name": "Python 3 (ipykernel)",
   "language": "python",
   "name": "python3"
  },
  "language_info": {
   "codemirror_mode": {
    "name": "ipython",
    "version": 3
   },
   "file_extension": ".py",
   "mimetype": "text/x-python",
   "name": "python",
   "nbconvert_exporter": "python",
   "pygments_lexer": "ipython3",
   "version": "3.11.5"
  }
 },
 "nbformat": 4,
 "nbformat_minor": 5
}

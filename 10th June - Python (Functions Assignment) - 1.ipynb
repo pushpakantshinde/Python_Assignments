{
 "cells": [
  {
   "cell_type": "markdown",
   "id": "1245088f-1398-41ee-b3d6-69bd066bf31e",
   "metadata": {},
   "source": [
    "### Q1. In Python, what is the difference between a built-in function and a user-defined function? Provide an example of each.\n",
    "\n",
    "**Answer:** \n",
    "\n",
    "**Built-in Function:**\n",
    "\n",
    "Built-in functions are pre-defined functions that are part of the Python standard library.\n",
    "They are readily available for use in Python without any need for custom implementation.\n",
    "Examples include print(), len(), max(), min(), and str(). These functions perform common operations and are available for all Python programs by default.\n",
    "\n",
    "Example:\n",
    "```python\n",
    "# Using a built-in function\n",
    "print(\"Hello, world!\")\n",
    "```\n",
    "\n",
    "**User-Defined Function:**\n",
    "\n",
    "User-defined functions are created by the programmer to perform specific tasks or operations.\n",
    "They are defined using the def keyword, followed by a function name and a block of code.\n",
    "Examples include functions you define in your code for custom tasks.\n",
    "\n",
    "Example:\n",
    "\n",
    "```python\n",
    "# Defining a user-defined function\n",
    "def greet(name):\n",
    "    return \"Hello, \" + name + \"!\"\n",
    "\n",
    "# Using the user-defined function\n",
    "result = greet(\"Pushpakant\")\n",
    "print(result)\n",
    "```"
   ]
  },
  {
   "cell_type": "markdown",
   "id": "051507bf-94dc-4552-a6a3-da5e6233c511",
   "metadata": {},
   "source": [
    "### Q2. How can you pass arguments to a function in Python? Explain the difference between positional arguments and keyword arguments.\n",
    "\n",
    "**Answer:**\n",
    "\n",
    "**Positional Arguments:**\n",
    "\n",
    "Positional arguments are passed to a function based on their position or order.\n",
    "The function expects arguments in a specific order, and the values you pass are matched to the function's parameters based on their positions.\n",
    "\n",
    "Example:\n",
    "```python\n",
    "def add (x,y):\n",
    "    return x + y\n",
    "\n",
    "result = add(3,5) # 3 is assigned to x, and 5 is assigned to y\n",
    "```\n",
    "\n",
    "**Keyword Arguments:**\n",
    "\n",
    "Keyword arguments are passed to a function by explicitly specifying the parameter names along with their values.\n",
    "You can provide the arguments in any order when using keyword arguments.\n",
    "\n",
    "Example:\n",
    "```python\n",
    "def greet(name, age):\n",
    "    return f\"Hello, {name}! You are {age} years old.\"\n",
    "\n",
    "result = greet(age=30, name=\"Pushpakant\")  # Arguments are specified using parameter names\n",
    "```"
   ]
  },
  {
   "cell_type": "markdown",
   "id": "f4219d31-bf31-4a7f-bad7-c7c3d1eda413",
   "metadata": {},
   "source": [
    "### Q3. What is the purpose of the return statement in a function? Can a function have multiple return statements? Explain with an example.\n",
    "\n",
    "**Answer:** \n",
    "\n",
    "The `return` statement in a function serves the purpose of exiting the function and returning a value (or multiple values) back to the caller. It allows a function to compute a value or perform an operation and then pass that result back to the code that called the function.\n",
    "\n",
    "A function can indeed have multiple return statements. However, once a return statement is encountered in a function, it immediately exits the function, and no further code within that function is executed.\n",
    "\n",
    "Here's an example with multiple return statements:\n",
    "```python\n",
    "def find_max(x, y):\n",
    "    if x > y:\n",
    "        return x                          # First return statement if x is greater\n",
    "    elif y > x:\n",
    "        return y                          # Second return statement if y is greater\n",
    "    else:\n",
    "        return \"Both numbers are equal\"   # Third return statement if x and y are equal\n",
    "\n",
    "result = find_max(5, 8)\n",
    "print(result)                             # Outputs: 8\n",
    "```"
   ]
  },
  {
   "cell_type": "markdown",
   "id": "4bf4d4d2-ca1e-4450-91c2-e69a72cacaec",
   "metadata": {},
   "source": [
    "### Q4. What are lambda functions in Python? How are they different from regular functions? Provide an example where a lambda function can be useful.\n",
    "\n",
    "**Answer:** \n",
    "\n",
    "Lambda functions, also known as anonymous functions, are small, unnamed functions defined using the lambda keyword in Python. They are used for short, simple operations and are typically used where a function is needed temporarily for a short period.\n",
    "\n",
    "Key characteristics of lambda functions:\n",
    "\n",
    "- They can take any number of arguments but can only have one expression.\n",
    "- They return the result of evaluating the expression without using a return statement.\n",
    "- Lambda functions are often used as arguments to higher-order functions (functions that take other functions as arguments), like map(), filter(), and sorted().\n",
    "\n",
    "Example:\n",
    "```python\n",
    "# Regular function\n",
    "def square(x):\n",
    "    return x * x\n",
    "\n",
    "# Equivalent lambda function\n",
    "square_lambda = lambda x: x * x\n",
    "\n",
    "print(square(5))             # Output: 25\n",
    "print(square_lambda(5))      # Output: 25\n",
    "```\n",
    "\n",
    "Lambda functions are different from regular functions in several ways:\n",
    "\n",
    "- Syntax: Lambda functions are defined using the `lambda` keyword and don't have a function name.\n",
    "- Conciseness: They are concise and typically used for simple operations in a single line.\n",
    "- Usage: Lambda functions are often used where a function is required temporarily or passed as an argument to another function.\n"
   ]
  },
  {
   "cell_type": "markdown",
   "id": "c8b74cc5-6e7c-4ea0-ae7f-0517ce410b5f",
   "metadata": {},
   "source": [
    "### Q5. How does the concept of \"scope\" apply to functions in Python? Explain the difference between local scope and global scope.\n",
    "\n",
    "**Answer:** \n",
    "\n",
    "\n",
    "In Python, the concept of \"scope\" refers to the region within a program where a particular identifier (such as a variable or a function name) is accessible or visible. The scope determines the visibility and lifetime of variables and other identifiers.\n",
    "\n",
    "**Local Scope:**\n",
    "- Variables defined within a function have local scope. They are only accessible within that function.\n",
    "- Local variables are created when the function is called and cease to exist when the function completes its execution.\n",
    "- Attempting to access a local variable outside its defining function will result in a NameError.\n",
    "\n",
    "Example:\n",
    "```python\n",
    "def my_function():\n",
    "    x = 10                  # Local variable\n",
    "    print(x)                # Accessible within the function\n",
    "\n",
    "my_function()\n",
    "print(x)                    # Raises NameError: x is not defined outside the function\n",
    "```\n",
    "\n",
    "**Global Scope:**\n",
    "- Variables defined outside of any function or at the top level of a module have global scope. They are accessible throughout the entire program.\n",
    "- Global variables persist throughout the program's execution.\n",
    "- Functions can access global variables, but they cannot modify them directly unless explicitly specified using the global keyword.\n",
    "\n",
    "Example:\n",
    "```python\n",
    "y = 20                     # Global variable\n",
    "\n",
    "def another_function():\n",
    "    print(y)               # Accessing the global variable inside the function\n",
    "\n",
    "another_function()\n",
    "print(y)                   # Accessible outside the function as well\n",
    "```\n",
    "\n",
    "Difference:\n",
    "\n",
    "- Local Scope: Variables defined within a function are accessible only within that function.\n",
    "- Global Scope: Variables defined outside functions or at the module level are accessible throughout the entire program.\n"
   ]
  },
  {
   "cell_type": "markdown",
   "id": "85f5f696-cf90-4775-b819-e6ed43ce3260",
   "metadata": {},
   "source": [
    "### Q6. How can you use the \"return\" statement in a Python function to return multiple values? \n",
    "\n",
    "**Answer:**\n",
    "\n",
    "In Python, we can use the return statement to return multiple values from a function by returning them as a tuple, list, dictionary, or any other collection type.\n",
    "\n",
    "**Example 1:**\n",
    "```python\n",
    "def multiple_values():\n",
    "    # Define multiple variables\n",
    "    a = 10\n",
    "    b = 20\n",
    "    c = 30\n",
    "    \n",
    "    # Return multiple values as a tuple\n",
    "    return a, b, c\n",
    "\n",
    "# Call the function and unpack the returned tuple\n",
    "result1, result2, result3 = multiple_values()\n",
    "\n",
    "print(result1)             # Output: 10\n",
    "print(result2)             # Output: 20\n",
    "print(result3)             # Output: 30\n",
    "```\n",
    "\n",
    "**Example 2:**\n",
    "```python\n",
    "def multiple_values_list():\n",
    "    a = 10\n",
    "    b = 20\n",
    "    c = 30\n",
    "    return [a, b, c]\n",
    "\n",
    "result_list = multiple_values_list()\n",
    "print(result_list)        # Output: [10, 20, 30]\n",
    "```\n",
    "\n",
    "**Example 3:**\n",
    "```python\n",
    "def multiple_values_dict():\n",
    "    a = 10\n",
    "    b = 20\n",
    "    c = 30\n",
    "    return {'a': a, 'b': b, 'c': c}\n",
    "\n",
    "result_dict = multiple_values_dict()\n",
    "print(result_dict)       # Output: {'a': 10, 'b': 20, 'c': 30}\n",
    "```\n"
   ]
  },
  {
   "cell_type": "markdown",
   "id": "63dba41d-fe23-4e96-b4db-07d2d134ae11",
   "metadata": {},
   "source": [
    "### Q7. What is the difference between the \"pass by value\" and \"pass by reference\" concepts when it comes to function arguments in Python?\n",
    "\n",
    "**Answer:** \n",
    "\n",
    "In Python, understanding \"pass by value\" versus \"pass by reference\" can be a bit nuanced because it's not as straightforward as in some other programming languages.\n",
    "\n",
    "- Pass by Value: When you pass a variable by value to a function, a copy of the variable's value is created and passed to the function. Any changes made to this copy within the function don't affect the original variable outside the function scope.\n",
    "\n",
    "- Pass by Reference: When you pass a variable by reference to a function, you're passing a reference (memory address) to the variable rather than a copy of its value. This means that changes made to the variable within the function will affect the original variable outside the function's scope.\n",
    "\n",
    "However, in Python:\n",
    "\n",
    "- Immutable Types: Variables that store immutable types (like integers, strings, tuples) are passed by value. Changes to these variables within a function don't affect the original variable since they create new objects in memory.\n",
    "\n",
    "- Mutable Types: Variables that store mutable types (like lists, dictionaries) are passed by reference. Changes made to these variables within a function affect the original variable because they reference the same object in memory.\n",
    "\n",
    "Here's an example:\n",
    "```python\n",
    "# Pass by value (immutable types)\n",
    "def change_value(x):\n",
    "    x += 10\n",
    "    return x\n",
    "\n",
    "a = 5\n",
    "print(change_value(a))  # Output: 15\n",
    "print(a)  # Output: 5 (original variable remains unchanged)\n",
    "\n",
    "# Pass by reference (mutable types)\n",
    "def change_list(lst):\n",
    "    lst.append(4)\n",
    "\n",
    "my_list = [1, 2, 3]\n",
    "change_list(my_list)\n",
    "print(my_list)  # Output: [1, 2, 3, 4] (original list is modified)\n",
    "```\n",
    "\n",
    "In the first case (`a = 5`), the integer `5` is immutable, so when `a` is passed to `change_value`, a new object (`a + 10`) is created, leaving the original `a` unchanged. In the second case (`my_list = [1, 2, 3]`), the list `my_list` is mutable, so changes made to it within the function (`lst.append(4)`) affect the original list.\n",
    "\n",
    "In short, Python uses a combination of passing by value (for immutable types) and passing by reference (for mutable types), and understanding this behavior helps in managing data within functions effectively.\n",
    "\n"
   ]
  },
  {
   "cell_type": "markdown",
   "id": "c200403d-e236-41be-8ded-bfa229b305a1",
   "metadata": {},
   "source": [
    "### Q8. Create a function that can intake integer or decimal value and do following operations:\n",
    "1. Logarithmic function (log x)\n",
    "2. Exponential function (exp(x))\n",
    "3. Power function with base 2 (2x)\n",
    "4. Square root "
   ]
  },
  {
   "cell_type": "code",
   "execution_count": 2,
   "id": "33510fa1-4fec-43d4-8a1a-a90b955c90f8",
   "metadata": {},
   "outputs": [],
   "source": [
    "import math"
   ]
  },
  {
   "cell_type": "code",
   "execution_count": 3,
   "id": "abab700f-dfd2-4c8a-a336-1f3a99ef942c",
   "metadata": {},
   "outputs": [
    {
     "name": "stdout",
     "output_type": "stream",
     "text": [
      "Enter the Value: 3.6\n",
      "The Logarithm of 3.6 is 1.2809338454620642\n"
     ]
    }
   ],
   "source": [
    "# 1. Logarithmic function (log x)\n",
    "\n",
    "def Logarithmic_function(x):\n",
    "    if x <= 0:\n",
    "        return \"Input must be greater than 0\"\n",
    "    result = math.log(x)\n",
    "    return result\n",
    "\n",
    "# Test The Function\n",
    "value = float(input(\"Enter the Value: \"))\n",
    "log_result = Logarithmic_function(value)\n",
    "print(f\"The Logarithm of {value} is {log_result}\")"
   ]
  },
  {
   "cell_type": "code",
   "execution_count": 4,
   "id": "731e8c8b-129a-46a5-b4fa-f54e10937912",
   "metadata": {},
   "outputs": [
    {
     "name": "stdout",
     "output_type": "stream",
     "text": [
      "Enter the value: 2.8\n",
      "The Exponential function of 2.8 is 16.444646771097048\n"
     ]
    }
   ],
   "source": [
    "# Exponential function (exp(x))\n",
    "\n",
    "def calculate_exponential(x):\n",
    "    result = math.exp(x)\n",
    "    return result\n",
    "\n",
    "# Test The function\n",
    "value = float(input(\"Enter the value: \"))\n",
    "exp_result = calculate_exponential(value)\n",
    "print(f\"The Exponential function of {value} is {exp_result}\")"
   ]
  },
  {
   "cell_type": "code",
   "execution_count": 10,
   "id": "33e6c51e-d883-4ee8-ae2f-bdd0934879ba",
   "metadata": {},
   "outputs": [
    {
     "name": "stdout",
     "output_type": "stream",
     "text": [
      "Enter the value: 2.8\n",
      "2^2.8 is equal to 6.964404506368992\n"
     ]
    }
   ],
   "source": [
    "# Power function with base 2 (2x)\n",
    "\n",
    "def power_of_two(x):\n",
    "    try:\n",
    "        result = 2 ** x # Convert x to a float to handle decimals\n",
    "        return result\n",
    "    except ValueError:\n",
    "        return \"Invalid input. Please provide a valid numeric value\"\n",
    "\n",
    "# Test the function:\n",
    "value = float(input(\"Enter the value: \"))\n",
    "result = power_of_two(value)\n",
    "print(f\"2^{value} is equal to {result}\")"
   ]
  },
  {
   "cell_type": "code",
   "execution_count": 3,
   "id": "cf08bb0e-b2ff-4e08-ad14-e69bee433d02",
   "metadata": {},
   "outputs": [
    {
     "name": "stdout",
     "output_type": "stream",
     "text": [
      "Enter the value: 4.9\n",
      "The Square root result of 4.9 is 2.2135943621178655\n"
     ]
    }
   ],
   "source": [
    "# Square root\n",
    "\n",
    "def square_root(x):\n",
    "    result = math.sqrt(x)\n",
    "    return result\n",
    "\n",
    "# Try the function\n",
    "value = float(input(\"Enter the value: \"))\n",
    "Square_root_result = square_root(value)\n",
    "print(f\"The Square root result of {value} is {Square_root_result}\")"
   ]
  },
  {
   "cell_type": "markdown",
   "id": "603633c1-a4d5-4049-8d2c-e456c4f8e32d",
   "metadata": {},
   "source": [
    "### Q9. Create a function that takes a full name as an argument and returns first name and last name."
   ]
  },
  {
   "cell_type": "code",
   "execution_count": 1,
   "id": "b5e4db13-1834-4fed-8acc-b87b4e8f8611",
   "metadata": {},
   "outputs": [
    {
     "name": "stdout",
     "output_type": "stream",
     "text": [
      "Enter full name: pushpakant shinde\n",
      "First Name: pushpakant\n",
      "Last Name: shinde\n"
     ]
    }
   ],
   "source": [
    "import math\n",
    "\n",
    "def split_full_name(full_name):\n",
    "    if not isinstance(full_name, str):\n",
    "        raise ValueError(\"Please provide a valid string for the full name.\")\n",
    "\n",
    "    name_parts = full_name.split(maxsplit=1)\n",
    "    first_name = name_parts[0]\n",
    "    last_name = name_parts[1] if len(name_parts) > 1 else ''\n",
    "\n",
    "    return first_name, last_name\n",
    "\n",
    "full_name = input(\"Enter full name: \")\n",
    "first, last = split_full_name(full_name)\n",
    "print(\"First Name:\", first)  \n",
    "print(\"Last Name:\", last)   "
   ]
  }
 ],
 "metadata": {
  "kernelspec": {
   "display_name": "Python 3 (ipykernel)",
   "language": "python",
   "name": "python3"
  },
  "language_info": {
   "codemirror_mode": {
    "name": "ipython",
    "version": 3
   },
   "file_extension": ".py",
   "mimetype": "text/x-python",
   "name": "python",
   "nbconvert_exporter": "python",
   "pygments_lexer": "ipython3",
   "version": "3.11.5"
  }
 },
 "nbformat": 4,
 "nbformat_minor": 5
}

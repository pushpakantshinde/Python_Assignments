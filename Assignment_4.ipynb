{
 "cells": [
  {
   "cell_type": "markdown",
   "id": "182d4c7e-2d3a-4cf7-9f09-26c6b52feef2",
   "metadata": {},
   "source": [
    "### Q1. What exactly is []?\n",
    "\n",
    "**Answer:** In Python, `[]` represents an empty list. It's a built-in data structure used to store a collection of items, but in this case, the list contains no elements. It's essentially a list with zero items."
   ]
  },
  {
   "cell_type": "markdown",
   "id": "625b08fd-6464-4e06-902f-d0a6bb8f85b5",
   "metadata": {},
   "source": [
    "### Q2: In a list of values stored in a variable called spam, how would you assign the value 'hello' as the third value?  (Assume [2, 4, 6, 8, 10] are in spam).\n",
    "\n",
    "**Answer:**\n",
    "\n",
    "To assign the value 'hello' as the third value in a list stored in a variable called `spam`, you can use indexing and assignment like this:\n",
    "\n",
    "```python\n",
    "spam = [2, 4, 6, 8, 10]\n",
    "spam[2] = 'hello'\n",
    "```\n",
    "\n",
    "After executing these lines, the `spam` list will be `[2, 4, 'hello', 8, 10]`, with 'hello' as the third element (index 2)."
   ]
  },
  {
   "cell_type": "markdown",
   "id": "8e669a04",
   "metadata": {},
   "source": [
    "### Let's pretend the spam includes the list ['a', 'b', 'c', 'd'] for the next three queries."
   ]
  },
  {
   "cell_type": "markdown",
   "id": "68e4885b-52db-4368-ac99-72d033fa6c49",
   "metadata": {},
   "source": [
    "### Q3: What is the value of spam[int(int('3' * 2) / 11)]?\n",
    "\n",
    "**Answer:** The value of `spam[int(int('3' * 2) / 11)]` can be calculated as follows:\n",
    "\n",
    "1. `'3' * 2` results in the string `'33'`.\n",
    "2. `int('33')` converts the string to an integer, resulting in the value `33`.\n",
    "3. `33 / 11` performs integer division, which results in `3`.\n",
    "4. Finally, `spam[3]` retrieves the element at index 3 in the `spam` list.\n",
    "\n",
    "So, if `spam` is `['a', 'b', 'c', 'd']`, then the value of `spam[int(int('3' * 2) / 11)]` is `d`.\n"
   ]
  },
  {
   "cell_type": "markdown",
   "id": "ab97a7ef-6ce2-4ac5-9af0-161bf0892706",
   "metadata": {},
   "source": [
    "### Q4: What is the value of spam[-1]?\n",
    "\n",
    "**Answer:** The value of `spam[-1]` refers to the last element in the list `spam`. \n",
    "\n",
    "If `spam` is `['a', 'b', 'c', 'd']`, then `spam[-1]` is equal to `d`."
   ]
  },
  {
   "cell_type": "markdown",
   "id": "e1199852-ca0a-437d-9bf2-b6aef96c2f10",
   "metadata": {},
   "source": [
    "### Q5: What is the value of spam[:2]?\n",
    "\n",
    "**Answer:** The value of `spam[:2]` is a sublist containing the first two elements of the list `spam`.\n",
    "\n",
    "If `spam` is `['a', 'b', 'c', 'd']`, then `spam[:2]` is `['a', 'b']`. It includes all elements from the beginning of the list up to (but not including) the element at index 2."
   ]
  },
  {
   "cell_type": "markdown",
   "id": "abd9fc7a",
   "metadata": {},
   "source": [
    "### Let's pretend bacon has the list [3.14, 'cat,' 11, 'cat,' True] for the next three questions."
   ]
  },
  {
   "cell_type": "markdown",
   "id": "a5b9e0d2-ef31-4655-98d4-905e5262f4dc",
   "metadata": {},
   "source": [
    "### Q6. What is the value of bacon.index('cat')?\n",
    "\n",
    "**Answer:** The value of `bacon.index('cat')` will be `1`."
   ]
  },
  {
   "cell_type": "markdown",
   "id": "9a5fad53-7a51-4695-b656-815f164c2403",
   "metadata": {},
   "source": [
    "### Q7: How does bacon.append(99) change the look of the list value in bacon?\n",
    "\n",
    "**Answer:** The bacon.append(99) operation will add the value 99 to the end of the list bacon. So the result will be [3.14, 'cat,', 11, 'cat,', True, 99]"
   ]
  },
  {
   "cell_type": "markdown",
   "id": "d68c08d9-f5e1-43dc-b3db-83b4af34e066",
   "metadata": {},
   "source": [
    "### Q8: How does bacon.remove('cat') change the look of the list in bacon?\n",
    "\n",
    "**Answer:** The `bacon.remove('cat')` operation will change the list `bacon` by removing the first occurrence of the string 'cat' from the list. After this operation, the list will look like this:\n",
    "\n",
    "```python\n",
    "[3.14, 11, 'cat,', True]\n",
    "```\n",
    "As you can see, the first occurrence of 'cat' (with a comma) has been removed from the list."
   ]
  },
  {
   "cell_type": "markdown",
   "id": "56a62151-a593-46a0-ba40-2167bc9544f1",
   "metadata": {},
   "source": [
    "### Q9: What are the list concatenation and list replication operators?\n",
    "\n",
    "**Answer:** \n",
    "In Python, the list concatenation operator is `+`, and the list replication (or repetition) operator is `*`.\n",
    "\n",
    "- List Concatenation Operator (+): The `+` operator is used to concatenate (combine) two or more lists into a single list. When you use + between two lists, it creates a new list containing all the elements from both lists in the order they were specified.\n",
    "\n",
    "Example:\n",
    "```python\n",
    "list1 = [1, 2, 3]\n",
    "list2 = [4, 5, 6]\n",
    "concatenated_list = list1 + list2\n",
    "print(concatenated_list)  # Output: [1, 2, 3, 4, 5, 6]\n",
    "```\n",
    "\n",
    "- List Replication Operator (*): The `*` operator, when used with a list and an integer, replicates (repeats) the elements of the list a specified number of times to create a new list.\n",
    "\n",
    "Example:\n",
    "```python\n",
    "original_list = [1, 2]\n",
    "replicated_list = original_list * 3\n",
    "print(replicated_list)  # Output: [1, 2, 1, 2, 1, 2]\n",
    "```\n"
   ]
  },
  {
   "cell_type": "markdown",
   "id": "0ee7375c-6885-4145-8de2-2734568130aa",
   "metadata": {},
   "source": [
    "### Q10: What is difference between the list methods append() and insert()?\n",
    "\n",
    "**Answer:** The difference between the list methods `append()` and `insert()` is as follows:\n",
    "\n",
    "- `append(item)`: This method adds an item to the end of a list. It doesn't require specifying an index. The new item becomes the last element in the list.\n",
    "\n",
    "- `insert(index, item)`: This method inserts an item at a specific position within the list, defined by the `index` argument. The item is inserted before the element at the specified index, and existing elements may be shifted to make room for it.\n",
    "\n",
    "In summary, `append()` adds an item to the end of the list, while `insert()` allows you to specify the position at which to insert an item in the list."
   ]
  },
  {
   "cell_type": "markdown",
   "id": "0d531944-2173-485e-94a1-787796513839",
   "metadata": {},
   "source": [
    "### Q11: What are the two methods for removing items from a list?\n",
    "\n",
    "**Answer:** The two methods for removing items from a list in Python are:\n",
    "\n",
    "1. `remove(item)`: This method removes the first occurrence of the specified item from the list. If the item is not found, it raises a `ValueError` exception.\n",
    "\n",
    "2. `pop(index)`: This method removes the item at the specified index from the list and returns the removed item. If no index is provided, it removes and returns the last item by default. If the index is out of range, it raises an `IndexError` exception."
   ]
  },
  {
   "cell_type": "markdown",
   "id": "aaac365b-126d-4e52-a090-0ae925267e31",
   "metadata": {},
   "source": [
    "### Q12. Describe how list values and string values are identical.\n",
    "\n",
    "**Answer:** List values and string values are both sequences of elements in Python. They share the following similarities:\n",
    "\n",
    "- Both can be indexed and sliced.\n",
    "- Both support the `len()` function to determine their length.\n",
    "- Both can be concatenated using `+`.\n",
    "- Both can be replicated using `*`.\n",
    "\n",
    "However, they differ in a way that list elements can be of different data types, while string elements are characters."
   ]
  },
  {
   "cell_type": "markdown",
   "id": "502caf50-1fbb-4e40-9174-8762f3b6af24",
   "metadata": {},
   "source": [
    "### Q13: What&#39;s the difference between tuples and lists?\n",
    "\n",
    "**Answer:** The main differences between tuples and lists in Python are:\n",
    "\n",
    "1. **Mutability:**\n",
    "   - Lists are mutable, which means you can change their elements (add, remove, or modify) after they are created.\n",
    "   - Tuples are immutable, which means once you create a tuple, you cannot change its elements. You can't add, remove, or modify elements.\n",
    "\n",
    "2. **Syntax:**\n",
    "   - Lists are enclosed in square brackets, e.g., `[1, 2, 3]`.\n",
    "   - Tuples are enclosed in parentheses, e.g., `(1, 2, 3)`.\n",
    "\n",
    "3. **Performance:**\n",
    "   - Lists are generally slightly slower than tuples because of their mutability.\n",
    "   - Tuples are faster and use less memory because of their immutability.\n",
    "\n",
    "4. **Use Case:**\n",
    "   - Lists are typically used when you have a collection of items that may change over time.\n",
    "   - Tuples are used when you want to create a collection of items that should not change during the program's execution, such as coordinates or keys in a dictionary.\n",
    "\n",
    "In summary, lists are mutable, enclosed in square brackets, and used for collections of items that can change. Tuples are immutable, enclosed in parentheses, and used for collections of items that should remain constant."
   ]
  },
  {
   "cell_type": "markdown",
   "id": "12368a85-8698-475b-a511-adbefe1b6480",
   "metadata": {},
   "source": [
    "### Q14:. How do you type a tuple value that only contains the integer 42?\n",
    "\n",
    "**Answer:** To create a tuple that contains only the integer 42, you can enclose it within parentheses:\n",
    "\n",
    "```python\n",
    "my_tuple = (42,)\n",
    "```\n",
    "\n",
    "Note the comma after the `42`. Including the comma is important because it distinguishes the tuple from a simple expression in parentheses."
   ]
  },
  {
   "cell_type": "markdown",
   "id": "851c1223-f8b3-47f0-9e4a-abcf7d71fff7",
   "metadata": {},
   "source": [
    "### Q15: How do you get a list value's tuple form? How do you get a tuple value's list form?\n",
    "\n",
    "**Answer:**\n",
    "\n",
    "- To convert a list value into its tuple form, we can use the `tuple()` function. This function takes an iterable (such as a list) and converts it into a tuple.\n",
    "\n",
    "Example:\n",
    "\n",
    "```python\n",
    "# We can use the tuple() constructor to convert a list to a tuple\n",
    "my_list = [1, 2, 3]\n",
    "my_tuple = tuple(my_list)\n",
    "```\n",
    "- Conversely, to convert a tuple value into its list form, we can use the `list()` function. This function takes an iterable (such as a tuple) and converts it into a list.\n",
    "\n",
    "Example:\n",
    "```python\n",
    "# We can use the list() constructor to convert a tuple to a list\n",
    "my_tuple = (4, 5, 6)\n",
    "my_list = list(my_tuple)\n",
    "```"
   ]
  },
  {
   "cell_type": "markdown",
   "id": "88cdb53f-fdaf-46ca-b96f-fe79fb6945e4",
   "metadata": {},
   "source": [
    "### Q16: Variables that &quot;contain&quot; list values are not necessarily lists themselves. Instead, what do they contain?\n",
    "\n",
    "**Answer:**\n",
    "In Python, variables that \"contain\" list values actually contain references or pointers to the list objects rather than the list objects themselves.\n",
    "\n",
    "When we assign a list to a variable, the variable holds a reference to the memory location where the list is stored, not the actual list data. This means that the variable doesn't store the entire list directly but rather holds a reference to the list's location in memory.\n",
    "\n",
    "Example:\n",
    "```python\n",
    "my_list = [1, 2, 3]\n",
    "```\n",
    "\n",
    "In this case, `my_list` is a variable that refers to the list `[1, 2, 3]`. However, `my_list` itself doesn't contain the list elements directly; it contains a reference to the memory location where the list `[1, 2, 3]` is stored.\n",
    "\n",
    "If we assign `my_list` to another variable or pass it as an argument to a function, we're working with the same list object referenced by both variables. Any changes made to the list through one variable will be reflected when accessing it through the other variable because they both reference the same list object in memory."
   ]
  },
  {
   "cell_type": "markdown",
   "id": "a37a9aad-1859-4da6-873d-1fd89d36183f",
   "metadata": {},
   "source": [
    "### Q17: How do you distinguish between copy.copy() and copy.deepcopy()?\n",
    "\n",
    "**Answer:**\n",
    "\n",
    "In Python's copy module, copy.copy() and copy.deepcopy() are used to create copies of objects, but they differ in the depth and type of copying they perform:\n",
    "\n",
    "**copy.copy():**\n",
    "- This function creates a shallow copy of an object. It constructs a new compound object (such as a list, dictionary, or other mutable types) and then inserts references to the objects found in the original.\n",
    "- For compound objects like lists or dictionaries, it creates a new object but doesn't create copies of the nested objects within the original object. Instead, it copies references to those nested objects.\n",
    "- Changes made to the nested objects in the copied structure will affect the original structure and vice versa.\n",
    "\n",
    "Example:\n",
    "\n",
    "```python\n",
    "import copy\n",
    "\n",
    "original_list = [1, [2, 3]]\n",
    "copied_list = copy.copy(original_list)\n",
    "copied_list[1][0] = 'changed'\n",
    "\n",
    "print(original_list)  # Outputs: [1, ['changed', 3]]\n",
    "```\n",
    "\n",
    "**copy.deepcopy():**\n",
    "- This function creates a deep copy of an object. It constructs a new compound object and then, recursively, inserts copies of the objects found in the original.\n",
    "- For compound objects, it creates a new object and also creates copies of the nested objects within the original object. It ensures that changes made to the copied structure do not affect the original structure and vice versa.\n",
    "\n",
    "Example:\n",
    "\n",
    "```python\n",
    "import copy\n",
    "\n",
    "original_list = [1, [2, 3]]\n",
    "deep_copied_list = copy.deepcopy(original_list)\n",
    "deep_copied_list[1][0] = 'changed'\n",
    "\n",
    "print(original_list)  # Outputs: [1, [2, 3]]\n",
    "```\n"
   ]
  }
 ],
 "metadata": {
  "kernelspec": {
   "display_name": "Python 3 (ipykernel)",
   "language": "python",
   "name": "python3"
  },
  "language_info": {
   "codemirror_mode": {
    "name": "ipython",
    "version": 3
   },
   "file_extension": ".py",
   "mimetype": "text/x-python",
   "name": "python",
   "nbconvert_exporter": "python",
   "pygments_lexer": "ipython3",
   "version": "3.11.5"
  }
 },
 "nbformat": 4,
 "nbformat_minor": 5
}

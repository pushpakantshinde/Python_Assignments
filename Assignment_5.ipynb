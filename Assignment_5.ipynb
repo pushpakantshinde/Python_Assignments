{
 "cells": [
  {
   "cell_type": "markdown",
   "id": "1085453e-03cb-4e6f-a7e6-84f06361cf82",
   "metadata": {},
   "source": [
    "### Q1. What does an empty dictionary's code look like?\n",
    "\n",
    "**Answer:** \n",
    "\n",
    "An empty dictionary in Python is represented by a pair of curly braces with nothing inside:\n",
    "\n",
    "```python\n",
    "empty_dict = {}\n",
    "```\n",
    "\n",
    "This creates an empty dictionary named `empty_dict`."
   ]
  },
  {
   "cell_type": "markdown",
   "id": "5a057a84-659d-4bca-986f-4b871455ddcc",
   "metadata": {},
   "source": [
    "### Q2. What is the value of a dictionary value with the key 'foo' and the value 42?\n",
    "\n",
    "**Answer:** \n",
    "\n",
    "The value of a dictionary with the key `'foo'` and the value `42` would look like this:\n",
    "\n",
    "```python\n",
    "my_dict = {'foo': 42}\n",
    "```\n",
    "\n",
    "In this dictionary, the key `'foo'` maps to the value `42`."
   ]
  },
  {
   "cell_type": "markdown",
   "id": "c3682cb4-7639-495d-b704-fc549c39de36",
   "metadata": {},
   "source": [
    "### Q3. What is the most significant distinction between a dictionary and a list?\n",
    "\n",
    "**Answer:** \n",
    "\n",
    "The most significant distinction between a dictionary and a list in Python is how they store and access data:\n",
    "\n",
    "- **List:** A list is an ordered collection of values, and each value is accessed by its index (position) in the list. Lists are indexed by integers starting from 0, and you access elements by their position in the list.\n",
    "\n",
    "- **Dictionary:** A dictionary is an unordered collection of key-value pairs. Instead of using indices, you access values in a dictionary by their associated keys. Keys are unique within a dictionary and allow you to retrieve values efficiently.\n",
    "\n",
    "In summary, lists use integer indices to access ordered values, while dictionaries use unique keys to access unordered key-value pairs."
   ]
  },
  {
   "cell_type": "markdown",
   "id": "bdd2ae7f-2274-4294-981c-dc168e778a4f",
   "metadata": {},
   "source": [
    "### Q4. What happens if you try to access spam['foo'] if spam is {'bar': 100}?\n",
    "\n",
    "**Answer:**\n",
    "\n",
    "If we try to access `spam['foo']` and `spam` is `{ 'bar': 100 }`, we will get a `KeyError` because there is no key `'foo'` in the dictionary `spam`. \n",
    "In Python, attempting to access a dictionary key that does not exist results in a `KeyError` unless we handle it with exception handling."
   ]
  },
  {
   "cell_type": "markdown",
   "id": "5cd64f99-d800-4be2-80b4-831611f7f989",
   "metadata": {},
   "source": [
    "### Q5. If a dictionary is stored in spam, what is the difference between the expressions 'cat' in spam and 'cat' in spam.keys()?\n",
    "\n",
    "**Answer:**\n",
    "\n",
    "The expressions 'cat' in spam and 'cat' in spam.keys() check for the presence of the key 'cat' in a dictionary stored in the variable spam, but they differ in how they perform the check:\n",
    "\n",
    "- 'cat' in spam: This expression checks if the key 'cat' exists directly within the keys of the dictionary `spam`. It checks whether 'cat' is a key in the dictionary, returning a boolean True or False based on the presence or absence of the key.\n",
    "\n",
    "Example:\n",
    "```python\n",
    "spam = {'cat': 1, 'dog': 2}\n",
    "print('cat' in spam)                 # Outputs: True\n",
    "print('elephant' in spam)            # Outputs: False\n",
    "```\n",
    "- 'cat' in spam.keys(): This expression retrieves all the keys of the dictionary `spam` using the `keys()` method and then checks if 'cat' exists among those keys. It returns True if the key 'cat' is present in the list of keys of the dictionary spam, and False otherwise.\n",
    "\n",
    "Example:\n",
    "\n",
    "```python\n",
    "spam = {'cat': 1, 'dog': 2}\n",
    "print('cat' in spam.keys())         # Outputs: True\n",
    "print('elephant' in spam.keys())    # Outputs: False\n",
    "```\n",
    "\n"
   ]
  },
  {
   "cell_type": "markdown",
   "id": "54de5042-04bf-48a8-8e09-31c22998e2e9",
   "metadata": {},
   "source": [
    "### Q6. If a dictionary is stored in spam, what is the difference between the expressions 'cat' in spam and 'cat' in spam.values()?\n",
    "\n",
    "**Answer:**\n",
    "\n",
    "The expressions 'cat' in spam and 'cat' in spam.values() differ in what they check within the dictionary stored in the variable spam:\n",
    "\n",
    "- 'cat' in spam: This expression checks if the key 'cat' exists directly within the keys of the dictionary `spam`. It verifies whether 'cat' is a key in the dictionary, returning a boolean True or False based on the presence or absence of the key.\n",
    "\n",
    "Example:\n",
    "```python\n",
    "spam = {'cat': 1, 'dog': 2}\n",
    "print('cat' in spam)                  # Outputs: True\n",
    "print('elephant' in spam)             # Outputs: False\n",
    "```\n",
    "\n",
    "- 'cat' in spam.values(): This expression retrieves all the values of the dictionary `spam` using the `values()` method and then checks if 'cat' exists among those values. It returns True if the value 'cat' is present in the list of values of the dictionary spam, and False otherwise\n",
    "\n",
    "Example:\n",
    "```python\n",
    "spam = {'cat': 1, 'dog': 2}\n",
    "print('cat' in spam.values())        # Outputs: False\n",
    "print(1 in spam.values())            # Outputs: True\n",
    "```\n",
    "\n",
    "In summary, 'cat' in spam checks if 'cat' is a key within the dictionary `spam`, while 'cat' in `spam.values()` checks if 'cat' exists among the values of `spam`. The first expression checks for the presence of the key 'cat' in the dictionary, while the second one checks for the presence of the value 'cat' among the values of the dictionary."
   ]
  },
  {
   "cell_type": "markdown",
   "id": "994ec12c-67f4-4e33-93cd-d3ecf5b6374d",
   "metadata": {},
   "source": [
    "### Q7. What is a shortcut for the following code?\n",
    "```python\n",
    "if 'color' not in spam:\n",
    "spam['color'] = 'black'\n",
    "```\n",
    "\n",
    "**Answer:**\n",
    "\n",
    "A shortcut for the given code can be achieved using the `setdefault()` method:\n",
    "\n",
    "```python\n",
    "spam.setdefault('color', 'black')\n",
    "```\n",
    "\n",
    "This method checks if the key 'color' exists in the `spam` dictionary. If the key is present, it returns the corresponding value. If the key is not present, it inserts the key-value pair 'color': 'black' into the dictionary `spam`. This achieves the same result as the provided if statement."
   ]
  },
  {
   "cell_type": "markdown",
   "id": "eee13c91-5416-4b41-aa6f-2808af537854",
   "metadata": {},
   "source": [
    "### Q8. How do you \"pretty print\" dictionary values using which module and function?\n",
    "\n",
    "**Answer:** \n",
    "\n",
    "To \"pretty print\" dictionary values in Python, you can use the pprint module's `pprint()` function (pretty print).\n",
    "\n",
    "Example:\n",
    "```python\n",
    "import pprint\n",
    "\n",
    "my_dict = {\n",
    "    'name': 'Alice',\n",
    "    'age': 30,\n",
    "    'address': {\n",
    "        'street': '123 Main St',\n",
    "        'city': 'Example City'\n",
    "    }\n",
    "}\n",
    "\n",
    "pprint.pprint(my_dict)\n",
    "```\n",
    "\n",
    "The `pprint.pprint()` function formats the dictionary `my_dict` in a more readable and organized manner compared to the regular `print()` function. It displays nested structures (such as dictionaries within dictionaries) with indentation, making it easier to visualize the structure and contents of complex data types like dictionaries."
   ]
  }
 ],
 "metadata": {
  "kernelspec": {
   "display_name": "Python 3 (ipykernel)",
   "language": "python",
   "name": "python3"
  },
  "language_info": {
   "codemirror_mode": {
    "name": "ipython",
    "version": 3
   },
   "file_extension": ".py",
   "mimetype": "text/x-python",
   "name": "python",
   "nbconvert_exporter": "python",
   "pygments_lexer": "ipython3",
   "version": "3.11.5"
  }
 },
 "nbformat": 4,
 "nbformat_minor": 5
}

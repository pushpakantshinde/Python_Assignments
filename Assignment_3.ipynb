{
 "cells": [
  {
   "cell_type": "markdown",
   "id": "9aadf9fe-c383-4ef9-b4b9-1bb6a1c5a048",
   "metadata": {},
   "source": [
    "### Q1: Why are functions advantageous to have in your programs?\n",
    "\n",
    "**Answer:** \n",
    "Functions offer several advantages in programming:\n",
    "\n",
    "- Reusability: Functions allow you to define a block of code that can be reused multiple times within a program or across different programs. Instead of writing the same code repeatedly, you can call a function whenever needed.\n",
    "\n",
    "- Modularity: Functions promote modular programming by breaking down complex tasks into smaller, manageable parts. This makes the code easier to understand, maintain, and debug. Each function can handle a specific task, improving code organization.\n",
    "\n",
    "- Abstraction: Functions provide an abstraction layer, allowing you to use a function without needing to understand its internal implementation. This separation of concerns allows for clearer and more readable code.\n",
    "\n",
    "- Readability: Well-named functions enhance the readability of code by providing descriptive names that explain their purpose. This improves code comprehension for other developers (including your future self).\n",
    "\n",
    "- Scoping: Functions have their own scope, meaning variables defined within a function are usually not accessible outside of that function. This helps in avoiding naming conflicts and unintended side effects.\n",
    "\n",
    "- Testing and Debugging: Functions enable easier testing of specific functionality. You can test individual functions separately, aiding in identifying and fixing issues within smaller, isolated parts of the code.\n",
    "\n",
    "- Code Maintainability: With functions, if a change is needed in a particular behavior or functionality, you only need to update that specific function, reducing the impact on the rest of the codebase.\n",
    "\n",
    "Overall, functions promote code reuse, organization, readability, and maintainability, making programs more efficient and easier to develop and maintain in the long run.\n",
    "\n",
    "In short, Functions:\n",
    "- Promote code reusability.\n",
    "- Simplify complex tasks by breaking them into manageable parts.\n",
    "- Enhance code organization and readability.\n",
    "- Enable easier debugging and maintenance.\n",
    "- Facilitate collaboration by dividing work among team members.\n",
    "- Promote a modular and structured approach to programming."
   ]
  },
  {
   "cell_type": "markdown",
   "id": "4f0c2ee0-738f-4975-be41-c54ff307770b",
   "metadata": {},
   "source": [
    "### Q: When does the code in a function run: when it's specified or when it's called?\n",
    "\n",
    "**Answer:** \n",
    "The code within a function runs when the function is called, not when it's specified or defined.\n",
    "\n",
    "When we define a function in Python, you're essentially creating a block of code that will be executed only when the function is called. Defining a function doesn't execute the code inside it; it just defines the functionality of that block of code.\n",
    "\n",
    "Functions act as reusable blocks of code that execute only when explicitly called. They encapsulate logic, and their execution happens at the point where they are invoked in the code."
   ]
  },
  {
   "cell_type": "markdown",
   "id": "2eab73ca-4d9f-4927-ace7-3847e1f39be4",
   "metadata": {},
   "source": [
    "### Q3: What statement creates a function?\n",
    "\n",
    "**Answer:**\n",
    "In Python, the `def` statement is used to create or define a function. The `def` keyword is followed by the function name and a set of parentheses containing optional parameters, if any, and a colon. The body of the function, which consists of the code to be executed when the function is called, is indented below the `def` statement.\n",
    "\n",
    "Example:\n",
    "\n",
    "```python\n",
    "def my_data(name):\n",
    "    \"\"\"This function shows the user data.\"\"\"\n",
    "    print(f\"My name is, {name}!\")\n",
    "\n",
    "# Function 'my_data' is created here\n",
    "\n",
    "```"
   ]
  },
  {
   "cell_type": "markdown",
   "id": "6ae68d25-0831-46e7-8a6b-6b6a55d9a459",
   "metadata": {},
   "source": [
    "### Q4: What is the difference between a function and a function call?\n",
    "\n",
    "**Answer:** \n",
    "\n",
    "A function and a function call are two distinct concepts in programming:\n",
    "\n",
    "- **Function:** A function is a block of organized, reusable code that performs a specific task. It is defined using the def keyword in Python and contains a set of statements that execute when the function is called. Functions can accept input parameters and may return a result. They define a specific behavior or action.\n",
    "\n",
    "Example:\n",
    "```python\n",
    "def add_numbers(a, b):\n",
    "    return a + b\n",
    "```\n",
    "In this case, `add_numbers` is a function that takes two parameters (`a` and `b`) and returns their sum.\n",
    "\n",
    "- **Function Call:** A function call is the act of invoking or executing a function that has been defined elsewhere in the code. When a function is called, the program executes the code inside the function block according to its defined behavior. To call a function, we simply use the function's name followed by parentheses containing any necessary arguments.\n",
    "\n",
    "Example:\n",
    "```python\n",
    "result = add_numbers(3, 5)\n",
    "```\n",
    "\n",
    "This line calls the `add_numbers` function with arguments `3` and `5` and assigns the returned value (`8` in this case) to the variable result.\n",
    "\n",
    "\n",
    "In summary, a function is the defined block of code with a specific purpose, while a function call is the action of executing that function to perform its intended task with specified arguments, if any.\n"
   ]
  },
  {
   "cell_type": "markdown",
   "id": "ff8a4a73-6cdd-4422-9c98-207e0463f4bf",
   "metadata": {},
   "source": [
    "### Q: How many global scopes are there in a Python program? How many local scopes?\n",
    "\n",
    "**Answer:**\n",
    "In a Python program, there is typically one global scope and multiple local scopes.\n",
    "\n",
    "- Global Scope: There is one global scope in a Python program. Variables defined outside of any function or class, or those explicitly marked as global within a function, belong to this global scope. Variables in the global scope can be accessed and modified from anywhere within the program.\n",
    "\n",
    "- Local Scopes: Local scopes are created whenever a function is called. Each function call creates its own local scope. Variables defined within a function are part of its local scope and are only accessible within that function. These variables exist as long as the function is executing and are discarded when the function finishes executing.\n",
    "\n",
    "Additionally, there are nested scopes in Python. When a function is defined within another function, the inner function has access to the variables in the enclosing (outer) function's scope, creating a nested scope.\n",
    "\n",
    "The concept of scopes in Python follows the LEGB rule, which stands for Local, Enclosing (or non-local), Global, and Built-in scopes. Python searches for variables in this order: local scope, enclosing functions (if any), global scope, and finally the built-in scope."
   ]
  },
  {
   "cell_type": "markdown",
   "id": "507d4fb3-3c50-4633-b690-825557af59b3",
   "metadata": {},
   "source": [
    "### Q6: What happens to variables in a local scope when the function call returns?\n",
    "\n",
    "**Answer:**\n",
    "\n",
    "When a function call returns, the local variables within that function cease to exist.\n",
    "\n",
    "Once the function finishes its execution, its local scope is destroyed, and any variables defined within that scope are deallocated from memory. This means that the variables' values are no longer accessible or retained after the function call completes."
   ]
  },
  {
   "cell_type": "markdown",
   "id": "d089a33a-9e41-4c4c-b2c7-5d2016e1f5e0",
   "metadata": {},
   "source": [
    "### Q7: What is the concept of a return value? Is it possible to have a return value in an expression?\n",
    "\n",
    "**Answer:** \n",
    "\n",
    "The concept of a return value in programming refers to the value that a function provides back to the part of the program that called it. When a function is executed, it can optionally produce a result or value using the return statement, which can then be used by the caller.\n",
    "\n",
    "Yes, it is possible to have a return value in an expression, which allows us to use the result of a function call within other expressions or assignments.\n"
   ]
  },
  {
   "cell_type": "markdown",
   "id": "937994de-1525-4dbf-8053-82712e0c3b38",
   "metadata": {},
   "source": [
    "### Q8: If a function does not have a return statement, what is the return value of a call to that function?\n",
    "\n",
    "**Answer:**\n",
    "\n",
    "If a function in Python does not have a `return` statement, the return value of a call to that function is `None`. In Python, `None` represents the absence of a value or a null value, and it is automatically returned when a function lacks an explicit `return` statement or when the `return` statement is without an expression.\n",
    "\n"
   ]
  },
  {
   "cell_type": "markdown",
   "id": "8b2dec21-57ab-44bf-b6ac-f52ac0a5534f",
   "metadata": {},
   "source": [
    "### Q9: How do you make a function variable refer to the global variable?\n",
    "\n",
    "**Answer:** \n",
    "\n",
    "In Python, to make a function variable refer to the global variable, we can use the `global` keyword within the function to declare that a particular variable is referring to a global variable. For example:\n",
    "\n",
    "```python\n",
    "global_variable = 50\n",
    "\n",
    "def my_function():\n",
    "    global global_variable\n",
    "    global_variable = 20\n",
    "\n",
    "my_function()\n",
    "print(global_variable)  # This will print 20\n",
    "```\n",
    "\n",
    "The `global` keyword informs Python that you want to modify the global variable inside the function rather than creating a new local variable with the same name."
   ]
  },
  {
   "cell_type": "markdown",
   "id": "a60f7d0f-cb9b-40c0-a3f7-47d2b31b7dd0",
   "metadata": {},
   "source": [
    "### Q10: What is the data type of None?\n",
    "\n",
    "**Answer:**\n",
    "In Python, `None` is a special constant representing the absence of a value or a null value. It is a unique data type of its own, called `NoneType`."
   ]
  },
  {
   "cell_type": "markdown",
   "id": "097fc165-7752-40af-b806-e1275289758a",
   "metadata": {},
   "source": [
    "### Q11: What does the sentence import areallyourpetsnamederic do?\n",
    "\n",
    "**Answer:** \n",
    "\n",
    "The sentence `import areallyourpetsnamederic` attempts to import a Python module or package named \"areallyourpetsnamederic.\" If such a module or package exists and is accessible from the current Python environment, it will be imported, and we can use its functions, classes, or variables in your program. If there is no module by that name or it's not in a location Python can access, it will result in an ImportError."
   ]
  },
  {
   "cell_type": "markdown",
   "id": "d4954f5f-ad9e-4c3f-ba01-ee4ef72e2a5f",
   "metadata": {},
   "source": [
    "### Q12: If you had a bacon() feature in a spam module, what would you call it after importing spam?\n",
    "\n",
    "**Answer:**\n",
    "\n",
    "If we have a function named bacon() within a module named spam and we've imported the spam module, we can call the bacon() function using the dot notation, specifying the module name and the function name.\n",
    "\n",
    "```python\n",
    "import spam\n",
    "\n",
    "spam.bacon()\n",
    "```\n",
    "\n",
    "This assumes that the \"bacon()\" function is defined within the \"spam\" module."
   ]
  },
  {
   "cell_type": "markdown",
   "id": "55a78a9c-755e-4794-8de6-e75547af9a12",
   "metadata": {},
   "source": [
    "### Q13: What can you do to save a programme from crashing if it encounters an error?\n",
    "\n",
    "**Answer:** \n",
    "\n",
    "To prevent a program from crashing when it encounters an error, we can use exception handling techniques, such as `try-except blocks` to gracefully handle and manage errors without terminating the program."
   ]
  },
  {
   "cell_type": "markdown",
   "id": "ecc934dd-175a-47a2-979b-d73c0df34df3",
   "metadata": {},
   "source": [
    "### Q14: What is the purpose of the try clause? What is the purpose of the except clause?\n",
    "\n",
    "**Answer:**\n",
    "\n",
    "- **Purpose of the try clause:** The purpose of the `try` clause is to enclose a block of code that might potentially raise an exception. It allows you to monitor for exceptions without causing the program to terminate.\n",
    "\n",
    "- **Purpose of the except clause:** The purpose of the `except` clause is to define a block of code that gets executed if an exception occurs within the corresponding `try` block. It handles and manages exceptions, allowing you to take specific actions in response to different types of errors."
   ]
  }
 ],
 "metadata": {
  "kernelspec": {
   "display_name": "Python 3 (ipykernel)",
   "language": "python",
   "name": "python3"
  },
  "language_info": {
   "codemirror_mode": {
    "name": "ipython",
    "version": 3
   },
   "file_extension": ".py",
   "mimetype": "text/x-python",
   "name": "python",
   "nbconvert_exporter": "python",
   "pygments_lexer": "ipython3",
   "version": "3.11.5"
  }
 },
 "nbformat": 4,
 "nbformat_minor": 5
}
